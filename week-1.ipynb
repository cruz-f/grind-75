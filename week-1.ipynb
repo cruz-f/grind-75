{
 "cells": [
  {
   "cell_type": "markdown",
   "metadata": {},
   "source": [
    "# Two Sum\n",
    "Given an array of integers nums and an integer target, return indices of the two numbers such that they add up to target.\n",
    "\n",
    "You may assume that each input would have exactly one solution, and you may not use the same element twice.\n",
    "\n",
    "You can return the answer in any order.\n",
    "\n",
    "\n",
    "\n",
    "Example 1:\n",
    "\n",
    "Input: nums = [2,7,11,15], target = 9\n",
    "Output: [0,1]\n",
    "Explanation: Because nums[0] + nums[1] == 9, we return [0, 1].\n",
    "Example 2:\n",
    "\n",
    "Input: nums = [3,2,4], target = 6\n",
    "Output: [1,2]\n",
    "Example 3:\n",
    "\n",
    "Input: nums = [3,3], target = 6\n",
    "Output: [0,1]\n",
    "\n",
    "\n",
    "Constraints:\n",
    "\n",
    "2 <= nums.length <= 104\n",
    "-109 <= nums[i] <= 109\n",
    "-109 <= target <= 109\n",
    "Only one valid answer exists.\n",
    "\n",
    "\n",
    "Follow-up: Can you come up with an algorithm that is less than O(n2) time complexity?"
   ]
  },
  {
   "cell_type": "code",
   "execution_count": 7,
   "metadata": {},
   "outputs": [
    {
     "name": "stdout",
     "output_type": "stream",
     "text": [
      "0 1\n"
     ]
    }
   ],
   "source": [
    "nums = [3,3,3]\n",
    "target = 6\n",
    "for i, (num_1, num_2) in enumerate(zip(nums, nums[1:])):\n",
    "    if num_1 + num_2 == target:\n",
    "        print(i, i+1)\n",
    "        break"
   ]
  },
  {
   "cell_type": "code",
   "execution_count": 20,
   "metadata": {},
   "outputs": [
    {
     "data": {
      "application/javascript": [
       "const nums = [3,2,4,2,4]\n",
       "const target = 6\n",
       "const idxs = nums.map((value, idx) => {\n",
       "    if (value + nums[idx - 1] === target){\n",
       "        return [idx - 1, idx]\n",
       "    }\n",
       "}).filter((x) => x)\n",
       "element.text(idxs[0])\n"
      ],
      "text/plain": [
       "<IPython.core.display.Javascript object>"
      ]
     },
     "metadata": {},
     "output_type": "display_data"
    }
   ],
   "source": [
    "%%js\n",
    "const nums = [3,2,4,2,4]\n",
    "const target = 6\n",
    "const idxs = nums.map((value, idx) => {\n",
    "    if (value + nums[idx - 1] === target){\n",
    "        return [idx - 1, idx]\n",
    "    }\n",
    "}).filter((x) => x)\n",
    "element.text(idxs[0])"
   ]
  },
  {
   "cell_type": "code",
   "execution_count": 27,
   "metadata": {},
   "outputs": [
    {
     "data": {
      "application/javascript": [
       "const twoSum = (nums, target) => {\n",
       "    for (let i = 0; i < nums.length - 1; i++){\n",
       "        if (nums[i] + nums[i+1] == target){\n",
       "            return [i, i+1]\n",
       "        }\n",
       "    }\n",
       "};\n",
       "element.text(twoSum([3,2,4,2,4], 6))\n"
      ],
      "text/plain": [
       "<IPython.core.display.Javascript object>"
      ]
     },
     "metadata": {},
     "output_type": "display_data"
    }
   ],
   "source": [
    "%%js\n",
    "const twoSum = (nums, target) => {\n",
    "    for (let i = 0; i < nums.length - 1; i++){\n",
    "        if (nums[i] + nums[i+1] == target){\n",
    "            return [i, i+1]\n",
    "        }\n",
    "    }\n",
    "};\n",
    "element.text(twoSum([3,2,4,2,4], 6))"
   ]
  },
  {
   "cell_type": "markdown",
   "metadata": {},
   "source": [
    "# Valid Parentheses\n",
    "Given a string s containing just the characters '(', ')', '{', '}', '[' and ']', determine if the input string is valid.\n",
    "\n",
    "An input string is valid if:\n",
    "\n",
    "Open brackets must be closed by the same type of brackets.\n",
    "Open brackets must be closed in the correct order.\n",
    "Every close bracket has a corresponding open bracket of the same type.\n",
    " \n",
    "\n",
    "Example 1:\n",
    "\n",
    "Input: s = \"()\"\n",
    "Output: true\n",
    "Example 2:\n",
    "\n",
    "Input: s = \"()[]{}\"\n",
    "Output: true\n",
    "Example 3:\n",
    "\n",
    "Input: s = \"(]\"\n",
    "Output: false\n",
    " \n",
    "\n",
    "Constraints:\n",
    "\n",
    "1 <= s.length <= 104\n",
    "s consists of parentheses only '()[]{}'."
   ]
  },
  {
   "cell_type": "code",
   "execution_count": 78,
   "metadata": {},
   "outputs": [
    {
     "data": {
      "text/plain": [
       "True"
      ]
     },
     "execution_count": 78,
     "metadata": {},
     "output_type": "execute_result"
    }
   ],
   "source": [
    "s = \"{()[([])][(([[]]))]}\"\n",
    "parentheses = ('(', ')')\n",
    "curly_parentheses = ('{', '}')\n",
    "brackets = ('[', ']')\n",
    "    \n",
    "def parentheses_recursive(chars=[], index=0):\n",
    "    \n",
    "    if index >= len(s):\n",
    "        return True\n",
    "\n",
    "    char = s[index]\n",
    "    if char in '({[':\n",
    "        chars.append(char)\n",
    "        return parentheses_1(chars, index + 1)\n",
    "\n",
    "    else:\n",
    "        if not chars:\n",
    "            return False\n",
    "\n",
    "        pair = (chars[-1], char)\n",
    "        if pair == parentheses or pair == curly_parentheses or pair == brackets:\n",
    "            chars.pop()\n",
    "            return parentheses_1(chars, index + 1)\n",
    "\n",
    "        return False\n",
    "        \n",
    "parentheses_recursive()"
   ]
  },
  {
   "cell_type": "code",
   "execution_count": 81,
   "metadata": {},
   "outputs": [
    {
     "data": {
      "text/plain": [
       "True"
      ]
     },
     "execution_count": 81,
     "metadata": {},
     "output_type": "execute_result"
    }
   ],
   "source": [
    "s = \"{()[([])][(([[]]))]}\"\n",
    "parentheses = ('(', ')')\n",
    "curly_parentheses = ('{', '}')\n",
    "brackets = ('[', ']')\n",
    "\n",
    "def parentheses_loop():\n",
    "    stack = [] \n",
    "    for c in s: \n",
    "        \n",
    "        if c in '([{': \n",
    "            stack.append(c)\n",
    "            continue\n",
    "        \n",
    "        if not stack:\n",
    "            return False\n",
    "        \n",
    "        pair = (stack[-1], c)\n",
    "        if pair != parentheses and pair != curly_parentheses and pair != brackets: \n",
    "            return False\n",
    "        \n",
    "        stack.pop()\n",
    "    \n",
    "    return not stack\n",
    "\n",
    "parentheses_loop()"
   ]
  },
  {
   "cell_type": "code",
   "execution_count": 107,
   "metadata": {},
   "outputs": [
    {
     "data": {
      "application/javascript": [
       "const parentheses = (s) => {\n",
       "    const stack = [];\n",
       "    \n",
       "    for (let i = 0; i < s.length; i++){\n",
       "        \n",
       "        if (s[i] === '(' || s[i] === '[' || s[i] === '{'){\n",
       "            stack.push(s[i])\n",
       "            \n",
       "        } else {\n",
       "            if (stack.length < 1) {\n",
       "                return false\n",
       "                \n",
       "            } else {\n",
       "                const prevC = stack[stack.length-1]\n",
       "                \n",
       "                if ((prevC === '(' && s[i] === ')') || (prevC === '[' && s[i] === ']') || (prevC === '{' && s[i] === '}')) {\n",
       "                    stack.pop()\n",
       "                    \n",
       "                } else {\n",
       "                    return false\n",
       "                    \n",
       "                }\n",
       "            }\n",
       "        }\n",
       "    }\n",
       "    return stack.length < 1\n",
       "};\n",
       "\n",
       "element.text(parentheses(\"{()[([])][(([[]]))]}\"))\n"
      ],
      "text/plain": [
       "<IPython.core.display.Javascript object>"
      ]
     },
     "metadata": {},
     "output_type": "display_data"
    }
   ],
   "source": [
    "%%js\n",
    "const parentheses = (s) => {\n",
    "    const stack = [];\n",
    "    \n",
    "    for (let i = 0; i < s.length; i++){\n",
    "        \n",
    "        if (s[i] === '(' || s[i] === '[' || s[i] === '{'){\n",
    "            stack.push(s[i])\n",
    "            \n",
    "        } else {\n",
    "            if (stack.length < 1) {\n",
    "                return false\n",
    "                \n",
    "            } else {\n",
    "                const prevC = stack[stack.length-1]\n",
    "                \n",
    "                if ((prevC === '(' && s[i] === ')') || (prevC === '[' && s[i] === ']') || (prevC === '{' && s[i] === '}')) {\n",
    "                    stack.pop()\n",
    "                    \n",
    "                } else {\n",
    "                    return false\n",
    "                    \n",
    "                }\n",
    "            }\n",
    "        }\n",
    "    }\n",
    "    return stack.length < 1\n",
    "};\n",
    "\n",
    "element.text(parentheses(\"{()[([])][(([[]]))]}\"))"
   ]
  }
 ],
 "metadata": {
  "kernelspec": {
   "display_name": "Python 3",
   "language": "python",
   "name": "python3"
  },
  "language_info": {
   "codemirror_mode": {
    "name": "ipython",
    "version": 3
   },
   "file_extension": ".py",
   "mimetype": "text/x-python",
   "name": "python",
   "nbconvert_exporter": "python",
   "pygments_lexer": "ipython3",
   "version": "3.7.7"
  }
 },
 "nbformat": 4,
 "nbformat_minor": 1
}
