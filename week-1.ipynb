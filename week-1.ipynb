{
 "cells": [
  {
   "cell_type": "markdown",
   "metadata": {},
   "source": [
    "# Two Sum\n",
    "Given an array of integers nums and an integer target, return indices of the two numbers such that they add up to target.\n",
    "\n",
    "You may assume that each input would have exactly one solution, and you may not use the same element twice.\n",
    "\n",
    "You can return the answer in any order.\n",
    "\n",
    "\n",
    "\n",
    "Example 1:\n",
    "\n",
    "Input: nums = [2,7,11,15], target = 9\n",
    "Output: [0,1]\n",
    "Explanation: Because nums[0] + nums[1] == 9, we return [0, 1].\n",
    "Example 2:\n",
    "\n",
    "Input: nums = [3,2,4], target = 6\n",
    "Output: [1,2]\n",
    "Example 3:\n",
    "\n",
    "Input: nums = [3,3], target = 6\n",
    "Output: [0,1]\n",
    "\n",
    "\n",
    "Constraints:\n",
    "\n",
    "2 <= nums.length <= 104\n",
    "-109 <= nums[i] <= 109\n",
    "-109 <= target <= 109\n",
    "Only one valid answer exists.\n",
    "\n",
    "\n",
    "Follow-up: Can you come up with an algorithm that is less than O(n2) time complexity?"
   ]
  },
  {
   "cell_type": "code",
   "execution_count": 7,
   "metadata": {},
   "outputs": [
    {
     "name": "stdout",
     "output_type": "stream",
     "text": [
      "0 1\n"
     ]
    }
   ],
   "source": [
    "nums = [3,3,3]\n",
    "target = 6\n",
    "for i, (num_1, num_2) in enumerate(zip(nums, nums[1:])):\n",
    "    if num_1 + num_2 == target:\n",
    "        print(i, i+1)\n",
    "        break"
   ]
  },
  {
   "cell_type": "code",
   "execution_count": 20,
   "metadata": {},
   "outputs": [
    {
     "data": {
      "application/javascript": [
       "const nums = [3,2,4,2,4]\n",
       "const target = 6\n",
       "const idxs = nums.map((value, idx) => {\n",
       "    if (value + nums[idx - 1] === target){\n",
       "        return [idx - 1, idx]\n",
       "    }\n",
       "}).filter((x) => x)\n",
       "element.text(idxs[0])\n"
      ],
      "text/plain": [
       "<IPython.core.display.Javascript object>"
      ]
     },
     "metadata": {},
     "output_type": "display_data"
    }
   ],
   "source": [
    "%%js\n",
    "const nums = [3,2,4,2,4]\n",
    "const target = 6\n",
    "const idxs = nums.map((value, idx) => {\n",
    "    if (value + nums[idx - 1] === target){\n",
    "        return [idx - 1, idx]\n",
    "    }\n",
    "}).filter((x) => x)\n",
    "element.text(idxs[0])"
   ]
  },
  {
   "cell_type": "code",
   "execution_count": 27,
   "metadata": {},
   "outputs": [
    {
     "data": {
      "application/javascript": [
       "const twoSum = (nums, target) => {\n",
       "    for (let i = 0; i < nums.length - 1; i++){\n",
       "        if (nums[i] + nums[i+1] == target){\n",
       "            return [i, i+1]\n",
       "        }\n",
       "    }\n",
       "};\n",
       "element.text(twoSum([3,2,4,2,4], 6))\n"
      ],
      "text/plain": [
       "<IPython.core.display.Javascript object>"
      ]
     },
     "metadata": {},
     "output_type": "display_data"
    }
   ],
   "source": [
    "%%js\n",
    "const twoSum = (nums, target) => {\n",
    "    for (let i = 0; i < nums.length - 1; i++){\n",
    "        if (nums[i] + nums[i+1] == target){\n",
    "            return [i, i+1]\n",
    "        }\n",
    "    }\n",
    "};\n",
    "element.text(twoSum([3,2,4,2,4], 6))"
   ]
  },
  {
   "cell_type": "markdown",
   "metadata": {},
   "source": [
    "# Valid Parentheses\n",
    "Given a string s containing just the characters '(', ')', '{', '}', '[' and ']', determine if the input string is valid.\n",
    "\n",
    "An input string is valid if:\n",
    "\n",
    "Open brackets must be closed by the same type of brackets.\n",
    "Open brackets must be closed in the correct order.\n",
    "Every close bracket has a corresponding open bracket of the same type.\n",
    " \n",
    "\n",
    "Example 1:\n",
    "\n",
    "Input: s = \"()\"\n",
    "Output: true\n",
    "Example 2:\n",
    "\n",
    "Input: s = \"()[]{}\"\n",
    "Output: true\n",
    "Example 3:\n",
    "\n",
    "Input: s = \"(]\"\n",
    "Output: false\n",
    " \n",
    "\n",
    "Constraints:\n",
    "\n",
    "1 <= s.length <= 104\n",
    "s consists of parentheses only '()[]{}'."
   ]
  },
  {
   "cell_type": "code",
   "execution_count": 78,
   "metadata": {},
   "outputs": [
    {
     "data": {
      "text/plain": [
       "True"
      ]
     },
     "execution_count": 78,
     "metadata": {},
     "output_type": "execute_result"
    }
   ],
   "source": [
    "s = \"{()[([])][(([[]]))]}\"\n",
    "parentheses = ('(', ')')\n",
    "curly_parentheses = ('{', '}')\n",
    "brackets = ('[', ']')\n",
    "    \n",
    "def parentheses_recursive(chars=[], index=0):\n",
    "    \n",
    "    if index >= len(s):\n",
    "        return True\n",
    "\n",
    "    char = s[index]\n",
    "    if char in '({[':\n",
    "        chars.append(char)\n",
    "        return parentheses_1(chars, index + 1)\n",
    "\n",
    "    else:\n",
    "        if not chars:\n",
    "            return False\n",
    "\n",
    "        pair = (chars[-1], char)\n",
    "        if pair == parentheses or pair == curly_parentheses or pair == brackets:\n",
    "            chars.pop()\n",
    "            return parentheses_1(chars, index + 1)\n",
    "\n",
    "        return False\n",
    "        \n",
    "parentheses_recursive()"
   ]
  },
  {
   "cell_type": "code",
   "execution_count": 81,
   "metadata": {},
   "outputs": [
    {
     "data": {
      "text/plain": [
       "True"
      ]
     },
     "execution_count": 81,
     "metadata": {},
     "output_type": "execute_result"
    }
   ],
   "source": [
    "s = \"{()[([])][(([[]]))]}\"\n",
    "parentheses = ('(', ')')\n",
    "curly_parentheses = ('{', '}')\n",
    "brackets = ('[', ']')\n",
    "\n",
    "def parentheses_loop():\n",
    "    stack = [] \n",
    "    for c in s: \n",
    "        \n",
    "        if c in '([{': \n",
    "            stack.append(c)\n",
    "            continue\n",
    "        \n",
    "        if not stack:\n",
    "            return False\n",
    "        \n",
    "        pair = (stack[-1], c)\n",
    "        if pair != parentheses and pair != curly_parentheses and pair != brackets: \n",
    "            return False\n",
    "        \n",
    "        stack.pop()\n",
    "    \n",
    "    return not stack\n",
    "\n",
    "parentheses_loop()"
   ]
  },
  {
   "cell_type": "code",
   "execution_count": 107,
   "metadata": {},
   "outputs": [
    {
     "data": {
      "application/javascript": [
       "const parentheses = (s) => {\n",
       "    const stack = [];\n",
       "    \n",
       "    for (let i = 0; i < s.length; i++){\n",
       "        \n",
       "        if (s[i] === '(' || s[i] === '[' || s[i] === '{'){\n",
       "            stack.push(s[i])\n",
       "            \n",
       "        } else {\n",
       "            if (stack.length < 1) {\n",
       "                return false\n",
       "                \n",
       "            } else {\n",
       "                const prevC = stack[stack.length-1]\n",
       "                \n",
       "                if ((prevC === '(' && s[i] === ')') || (prevC === '[' && s[i] === ']') || (prevC === '{' && s[i] === '}')) {\n",
       "                    stack.pop()\n",
       "                    \n",
       "                } else {\n",
       "                    return false\n",
       "                    \n",
       "                }\n",
       "            }\n",
       "        }\n",
       "    }\n",
       "    return stack.length < 1\n",
       "};\n",
       "\n",
       "element.text(parentheses(\"{()[([])][(([[]]))]}\"))\n"
      ],
      "text/plain": [
       "<IPython.core.display.Javascript object>"
      ]
     },
     "metadata": {},
     "output_type": "display_data"
    }
   ],
   "source": [
    "%%js\n",
    "const parentheses = (s) => {\n",
    "    const stack = [];\n",
    "    \n",
    "    for (let i = 0; i < s.length; i++){\n",
    "        \n",
    "        if (s[i] === '(' || s[i] === '[' || s[i] === '{'){\n",
    "            stack.push(s[i])\n",
    "            \n",
    "        } else {\n",
    "            if (stack.length < 1) {\n",
    "                return false\n",
    "                \n",
    "            } else {\n",
    "                const prevC = stack[stack.length-1]\n",
    "                \n",
    "                if ((prevC === '(' && s[i] === ')') || (prevC === '[' && s[i] === ']') || (prevC === '{' && s[i] === '}')) {\n",
    "                    stack.pop()\n",
    "                    \n",
    "                } else {\n",
    "                    return false\n",
    "                    \n",
    "                }\n",
    "            }\n",
    "        }\n",
    "    }\n",
    "    return stack.length < 1\n",
    "};\n",
    "\n",
    "element.text(parentheses(\"{()[([])][(([[]]))]}\"))"
   ]
  },
  {
   "cell_type": "markdown",
   "metadata": {},
   "source": [
    "# Merge Two Sorted Lists\n",
    "You are given the heads of two sorted linked lists list1 and list2.\n",
    "\n",
    "Merge the two lists into one sorted list. The list should be made by splicing together the nodes of the first two lists.\n",
    "\n",
    "Return the head of the merged linked list.\n",
    "\n",
    " \n",
    "\n",
    "Example 1:\n",
    "\n",
    "\n",
    "Input: list1 = [1,2,4], list2 = [1,3,4]\n",
    "Output: [1,1,2,3,4,4]\n",
    "Example 2:\n",
    "\n",
    "Input: list1 = [], list2 = []\n",
    "Output: []\n",
    "Example 3:\n",
    "\n",
    "Input: list1 = [], list2 = [0]\n",
    "Output: [0]\n",
    " \n",
    "\n",
    "Constraints:\n",
    "\n",
    "The number of nodes in both lists is in the range [0, 50].\n",
    "-100 <= Node.val <= 100\n",
    "Both list1 and list2 are sorted in non-decreasing order."
   ]
  },
  {
   "cell_type": "code",
   "execution_count": 2,
   "metadata": {},
   "outputs": [
    {
     "name": "stdout",
     "output_type": "stream",
     "text": [
      "[40, 20, 10]\n",
      "[10, 20, 40]\n",
      "1\n",
      "3\n",
      "4\n",
      "9\n",
      "10\n",
      "20\n",
      "40\n",
      "\n",
      "[1, 3, 4, 9, 10, 20, 40]\n"
     ]
    }
   ],
   "source": [
    "from dataclasses import dataclass\n",
    "from typing import Optional\n",
    "from itertools import zip_longest\n",
    "\n",
    "@dataclass\n",
    "class Node:\n",
    "    value: int\n",
    "    next_node: Optional['Node'] = None\n",
    "\n",
    "\n",
    "node_a1 = Node(40)\n",
    "node_a2 = Node(20, node_a1)\n",
    "node_a3 = Node(10, node_a2)\n",
    "node_a4 = Node(9, node_a3)\n",
    "\n",
    "node_b1 = Node(4)\n",
    "node_b2 = Node(3, node_b1)\n",
    "node_b3 = Node(1, node_b2)\n",
    "\n",
    "def traverse_nodes_reverse(node):\n",
    "    if node.next_node:\n",
    "        yield from traverse_nodes_reverse(node.next_node)\n",
    "    yield node.value\n",
    "\n",
    "print(list(traverse_nodes_reverse(node_a3)))\n",
    "\n",
    "\n",
    "def traverse_nodes_forward(node):\n",
    "    \n",
    "    yield node.value\n",
    "    \n",
    "    if node.next_node:\n",
    "        yield from traverse_nodes_forward(node.next_node)\n",
    "    \n",
    "\n",
    "print(list(traverse_nodes_forward(node_a3)))\n",
    "\n",
    "def merge_list(l1, l2):\n",
    "    \n",
    "    if len(l1) > len(l2):\n",
    "        start = l1\n",
    "        end = l2\n",
    "    else:\n",
    "        start = l2\n",
    "        end = l1\n",
    "    \n",
    "    merged_list = list(start)\n",
    "    \n",
    "    for node in end:\n",
    "        \n",
    "        for i, n in enumerate(list(merged_list)):\n",
    "            \n",
    "            if n.value >= node.value:\n",
    "                merged_list.insert(i, node)\n",
    "                node.next_node = n\n",
    "                \n",
    "                if i > 0:\n",
    "                    merged_list[i-1].next_node = node\n",
    "                    \n",
    "                break\n",
    "                \n",
    "    return merged_list\n",
    "\n",
    "k = merge_list([node_a4, node_a3, node_a2, node_a1], [node_b3, node_b2, node_b1])\n",
    "for s in k:\n",
    "    print(s.value)\n",
    "\n",
    "print()\n",
    "print(list(traverse_nodes_forward(k[0])))"
   ]
  },
  {
   "cell_type": "code",
   "execution_count": 24,
   "metadata": {},
   "outputs": [
    {
     "data": {
      "application/javascript": [
       "class Node {\n",
       "  constructor(value, nextNode = null) {\n",
       "    this.value = value;\n",
       "    this.nextNode = nextNode;\n",
       "  }\n",
       "}\n",
       "\n",
       "const mergeLists = (l1, l2) => {\n",
       "    let start = l1\n",
       "    let end = l2\n",
       "    if (l2.lenght > l1.lenght) {\n",
       "        start = l2\n",
       "        end = l1\n",
       "    }\n",
       "    \n",
       "    const mergedList = [...start]\n",
       "    \n",
       "    for (let i = 0; i < end.length; i++) {\n",
       "        let newNode = end[i]\n",
       "        let mergedListLength = mergedList.length\n",
       "        \n",
       "        for (let j = 0; j < mergedListLength; j++) {\n",
       "            \n",
       "            let nodeInList = mergedList[j]\n",
       "            \n",
       "            if (nodeInList.value >= newNode.value) {\n",
       "                mergedList.splice(j, 0, newNode);\n",
       "                newNode.nextNode = nodeInList\n",
       "                \n",
       "                if (j > 0) {\n",
       "                    const previousNodeInList = mergedList[j-1]\n",
       "                    previousNodeInList.nextNode = newNode\n",
       "                }\n",
       "                \n",
       "                break\n",
       "            }\n",
       "        }\n",
       "    }\n",
       "    \n",
       "    return mergedList\n",
       "}\n",
       "\n",
       "const node_a1 = new Node(40)\n",
       "const node_a2 = new Node(20, node_a1)\n",
       "const node_a3 = new Node(10, node_a2)\n",
       "const node_a4 = new Node(9, node_a3)\n",
       "\n",
       "const node_b1 = new Node(4)\n",
       "const node_b2 = new Node(3, node_b1)\n",
       "const node_b3 = new Node(1, node_b2)\n",
       "\n",
       "const list1 = [node_a4, node_a3, node_a2, node_a1]\n",
       "const list2 = [node_b3, node_b2, node_b1]\n",
       "\n",
       "element.text(mergeLists(list1, list2).map((value) => `value ${value.value}, nextNode ${value.nextNode ? value.nextNode.value : 'null'}`))\n"
      ],
      "text/plain": [
       "<IPython.core.display.Javascript object>"
      ]
     },
     "metadata": {},
     "output_type": "display_data"
    }
   ],
   "source": [
    "%%js\n",
    "class Node {\n",
    "  constructor(value, nextNode = null) {\n",
    "    this.value = value;\n",
    "    this.nextNode = nextNode;\n",
    "  }\n",
    "}\n",
    "\n",
    "const mergeLists = (l1, l2) => {\n",
    "    let start = l1\n",
    "    let end = l2\n",
    "    if (l2.lenght > l1.lenght) {\n",
    "        start = l2\n",
    "        end = l1\n",
    "    }\n",
    "    \n",
    "    const mergedList = [...start]\n",
    "    \n",
    "    for (let i = 0; i < end.length; i++) {\n",
    "        let newNode = end[i]\n",
    "        let mergedListLength = mergedList.length\n",
    "        \n",
    "        for (let j = 0; j < mergedListLength; j++) {\n",
    "            \n",
    "            let nodeInList = mergedList[j]\n",
    "            \n",
    "            if (nodeInList.value >= newNode.value) {\n",
    "                mergedList.splice(j, 0, newNode);\n",
    "                newNode.nextNode = nodeInList\n",
    "                \n",
    "                if (j > 0) {\n",
    "                    const previousNodeInList = mergedList[j-1]\n",
    "                    previousNodeInList.nextNode = newNode\n",
    "                }\n",
    "                \n",
    "                break\n",
    "            }\n",
    "        }\n",
    "    }\n",
    "    \n",
    "    return mergedList\n",
    "}\n",
    "\n",
    "const node_a1 = new Node(40)\n",
    "const node_a2 = new Node(20, node_a1)\n",
    "const node_a3 = new Node(10, node_a2)\n",
    "const node_a4 = new Node(9, node_a3)\n",
    "\n",
    "const node_b1 = new Node(4)\n",
    "const node_b2 = new Node(3, node_b1)\n",
    "const node_b3 = new Node(1, node_b2)\n",
    "\n",
    "const list1 = [node_a4, node_a3, node_a2, node_a1]\n",
    "const list2 = [node_b3, node_b2, node_b1]\n",
    "\n",
    "element.text(mergeLists(list1, list2).map((value) => `value ${value.value}, nextNode ${value.nextNode ? value.nextNode.value : 'null'}`))"
   ]
  },
  {
   "cell_type": "code",
   "execution_count": null,
   "metadata": {},
   "outputs": [],
   "source": []
  }
 ],
 "metadata": {
  "kernelspec": {
   "display_name": "Python 3",
   "language": "python",
   "name": "python3"
  },
  "language_info": {
   "codemirror_mode": {
    "name": "ipython",
    "version": 3
   },
   "file_extension": ".py",
   "mimetype": "text/x-python",
   "name": "python",
   "nbconvert_exporter": "python",
   "pygments_lexer": "ipython3",
   "version": "3.7.7"
  }
 },
 "nbformat": 4,
 "nbformat_minor": 1
}
